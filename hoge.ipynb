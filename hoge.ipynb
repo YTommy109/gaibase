{
 "cells": [
  {
   "cell_type": "code",
   "execution_count": 15,
   "metadata": {},
   "outputs": [
    {
     "name": "stdout",
     "output_type": "stream",
     "text": [
      "{'now': datetime.datetime(2024, 9, 21, 18, 6, 48, 921583, tzinfo=zoneinfo.ZoneInfo(key='Asia/Tokyo'))}\n"
     ]
    }
   ],
   "source": [
    "from psycopg.rows import dict_row\n",
    "from psycopg_pool import ConnectionPool\n",
    "\n",
    "with ConnectionPool(\n",
    "    conninfo=\"postgres://tokutomi@127.0.0.1:5432/gaibase_dev?sslmode=disable\",\n",
    "    min_size=1,\n",
    "    max_size=10,\n",
    ") as pool:\n",
    "    with pool.connection() as conn:\n",
    "        cur = conn.cursor(row_factory=dict_row)\n",
    "        row = cur.execute(\"SELECT now()\").fetchone()\n",
    "        print(row)\n"
   ]
  }
 ],
 "metadata": {
  "kernelspec": {
   "display_name": ".venv",
   "language": "python",
   "name": "python3"
  },
  "language_info": {
   "codemirror_mode": {
    "name": "ipython",
    "version": 3
   },
   "file_extension": ".py",
   "mimetype": "text/x-python",
   "name": "python",
   "nbconvert_exporter": "python",
   "pygments_lexer": "ipython3",
   "version": "3.12.4"
  }
 },
 "nbformat": 4,
 "nbformat_minor": 2
}
